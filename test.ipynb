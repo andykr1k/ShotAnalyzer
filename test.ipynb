{
 "cells": [
  {
   "cell_type": "code",
   "execution_count": 1,
   "metadata": {},
   "outputs": [],
   "source": [
    "import os"
   ]
  },
  {
   "cell_type": "code",
   "execution_count": 4,
   "metadata": {},
   "outputs": [],
   "source": [
    "# import os - needed\n",
    "shots = {}\n",
    "\n",
    "directory = './data/videos/'\n",
    "\n",
    "# Iterate over all files in the directory\n",
    "for filename in os.listdir(directory):\n",
    "    file_path = os.path.join(directory, filename)\n",
    "    file_name_without_ext, _ = os.path.splitext(filename)\n",
    "    shots[file_name_without_ext] = file_path"
   ]
  },
  {
   "cell_type": "code",
   "execution_count": 5,
   "metadata": {},
   "outputs": [
    {
     "name": "stdout",
     "output_type": "stream",
     "text": [
      "{'3_bounceout': './data/videos/3_bounceout.mov', 'close_frontrim': './data/videos/close_frontrim.mov', 'farwing_swish': './data/videos/farwing_swish.mov', 'ft-straight': './data/videos/ft-straight.mov', 'ft_solder': './data/videos/ft_solder.mov', 'layup': './data/videos/layup.mov', 'wing_roll': './data/videos/wing_roll.mov', 'wing_rollout': './data/videos/wing_rollout.mov'}\n"
     ]
    }
   ],
   "source": [
    "print(shots)"
   ]
  }
 ],
 "metadata": {
  "kernelspec": {
   "display_name": "env",
   "language": "python",
   "name": "python3"
  },
  "language_info": {
   "codemirror_mode": {
    "name": "ipython",
    "version": 3
   },
   "file_extension": ".py",
   "mimetype": "text/x-python",
   "name": "python",
   "nbconvert_exporter": "python",
   "pygments_lexer": "ipython3",
   "version": "3.10.7"
  }
 },
 "nbformat": 4,
 "nbformat_minor": 2
}
